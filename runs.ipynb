{
 "cells": [
  {
   "cell_type": "code",
   "execution_count": 3,
   "metadata": {},
   "outputs": [],
   "source": [
    "import torch\n",
    "import torch.nn as nn\n",
    "from network import *\n",
    "from train import train_model, plot_results, plot_results_over_line\n",
    "from data2 import get_sdf_data_loader, get_sdf_data_loader_from_sdf_pixels, plot_mesh\n",
    "import matplotlib.pyplot as plt\n",
    "import meshio\n",
    "import numpy as np\n",
    "import torch.nn.functional as F"
   ]
  },
  {
   "cell_type": "code",
   "execution_count": 4,
   "metadata": {},
   "outputs": [],
   "source": [
    "n_objects, n_epoch = 100, 1500\n",
    "edge_weight = True\n",
    "step_size, gamma = 200, 0.6\n",
    "lr_0 = 0.001"
   ]
  },
  {
   "cell_type": "code",
   "execution_count": 10,
   "metadata": {},
   "outputs": [
    {
     "name": "stdout",
     "output_type": "stream",
     "text": [
      "preparing sdf data loader\n"
     ]
    }
   ],
   "source": [
    "edge_weight = True\n",
    "radius = 0.1\n",
    "batch_size = 50\n",
    "in_channels, out_channels, hidden_channels = 3, 1, [64, 64, 64, 64]\n",
    "data_folder = \"data2/dataset_3/graph1/\"\n",
    "train_data = get_sdf_data_loader(n_objects, data_folder, batch_size, edge_weight=edge_weight)"
   ]
  },
  {
   "cell_type": "code",
   "execution_count": 11,
   "metadata": {},
   "outputs": [],
   "source": [
    "in_channels, hidden_channels, out_channels = 3, [32, 64, 128, 64, 32], 1\n",
    "model = UNet_gcn_conv(in_channels, hidden_channels, out_channels)"
   ]
  },
  {
   "cell_type": "code",
   "execution_count": null,
   "metadata": {},
   "outputs": [],
   "source": [
    "train_model(model, train_data, lr_0=lr_0, n_epoch=n_epoch, with_borderless_loss=True, step_size=step_size,\n",
    "            gamma=gamma, radius=radius, with_eikonal_loss=False, save_name=\"name\", print_every=100)"
   ]
  },
  {
   "cell_type": "code",
   "execution_count": null,
   "metadata": {},
   "outputs": [],
   "source": [
    "train_data = get_sdf_data_loader(n_objects, data_folder, 1, edge_weight=edge_weight)\n",
    "plot_results(model, train_data, border=0.1, levels=[-0.2, -0.1, 0, 0.1, 0.2, 0.4, 0.6, 0.8, 1], save_name=\"name\")"
   ]
  },
  {
   "cell_type": "code",
   "execution_count": null,
   "metadata": {},
   "outputs": [],
   "source": [
    "plot_results_over_line(model, train_data, save_name=\"name\")"
   ]
  }
 ],
 "metadata": {
  "kernelspec": {
   "display_name": "Python 3",
   "language": "python",
   "name": "python3"
  },
  "language_info": {
   "codemirror_mode": {
    "name": "ipython",
    "version": 3
   },
   "file_extension": ".py",
   "mimetype": "text/x-python",
   "name": "python",
   "nbconvert_exporter": "python",
   "pygments_lexer": "ipython3",
   "version": "3.8.5"
  }
 },
 "nbformat": 4,
 "nbformat_minor": 4
}
